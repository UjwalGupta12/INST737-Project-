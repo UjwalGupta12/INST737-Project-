{
 "cells": [
  {
   "cell_type": "code",
   "execution_count": 1,
   "metadata": {
    "colab": {
     "base_uri": "https://localhost:8080/"
    },
    "id": "GLbm4wsfDtdH",
    "outputId": "2aa6e65a-bd76-4d72-f935-f0e715bf87e5"
   },
   "outputs": [],
   "source": [
    "#!pip install selenium\n",
    "#!pip install scrapy"
   ]
  },
  {
   "cell_type": "code",
   "execution_count": 2,
   "metadata": {
    "id": "cR0zU3aeD6Fd"
   },
   "outputs": [],
   "source": [
    "import numpy as np\n",
    "import pandas as pd\n",
    "from scrapy.selector import Selector\n",
    "from selenium import webdriver \n",
    "from selenium.webdriver.common.by import By\n",
    "from selenium.webdriver.common.keys import Keys\n",
    "import time\n",
    "from tqdm import tqdm\n",
    "import warnings\n",
    "warnings.filterwarnings(\"ignore\")\n",
    "import random"
   ]
  },
  {
   "cell_type": "code",
   "execution_count": 3,
   "metadata": {
    "colab": {
     "base_uri": "https://localhost:8080/",
     "height": 432
    },
    "id": "kWmMr7h6D6Jr",
    "outputId": "a9db3d96-6727-40c1-b18d-173cbf58a2dc"
   },
   "outputs": [
    {
     "name": "stdout",
     "output_type": "stream",
     "text": [
      "Star Wars: Episode VI - Return of the Jedi (1983) - Star Wars: Episode VI - Return of the Jedi (1983) - User Reviews - IMDb\n"
     ]
    }
   ],
   "source": [
    "driver = webdriver.Chrome(r'D:\\UMD Master Year 2 College Work\\Fall 2022-2023\\INST737-IM01\\chromedriver')\n",
    "url = 'https://www.imdb.com/title/tt0086190/reviews?ref_=tt_ov_rt' \n",
    "randomNumber = random.randint(0,4)\n",
    "time.sleep(1)\n",
    "driver.get(url)\n",
    "time.sleep(1)\n",
    "print(driver.title)\n",
    "time.sleep(1)\n",
    "body = driver.find_element(By.CSS_SELECTOR, 'body')\n",
    "body.send_keys(Keys.END)\n",
    "time.sleep(randomNumber)\n",
    "# body.send_keys(Keys.PAGE_DOWN)\n",
    "# time.sleep(1)\n",
    "# body.send_keys(Keys.PAGE_DOWN)\n",
    "# time.sleep(1)\n",
    "# body.send_keys(Keys.PAGE_DOWN)"
   ]
  },
  {
   "cell_type": "code",
   "execution_count": 4,
   "metadata": {
    "id": "p9Fncx9yD6Se"
   },
   "outputs": [],
   "source": [
    "sel = Selector(text = driver.page_source)\n",
    "review_counts = sel.css('.lister .header span::text').extract_first().replace(',','').split(' ')[0]\n",
    "more_review_pages = int(int(review_counts)/25)"
   ]
  },
  {
   "cell_type": "code",
   "execution_count": 5,
   "metadata": {
    "id": "-l5GCsPeD6YD"
   },
   "outputs": [
    {
     "name": "stderr",
     "output_type": "stream",
     "text": [
      "100%|██████████| 38/38 [01:23<00:00,  2.20s/it]\n"
     ]
    }
   ],
   "source": [
    "for i in tqdm(range(more_review_pages)):\n",
    "    try:\n",
    "        css_selector = 'load-more-trigger'\n",
    "        driver.find_element(By.ID, css_selector).click()\n",
    "        body.send_keys(Keys.END)\n",
    "        time.sleep(randomNumber)\n",
    "    except:\n",
    "        pass"
   ]
  },
  {
   "cell_type": "code",
   "execution_count": 6,
   "metadata": {},
   "outputs": [],
   "source": [
    "reviews = driver.find_elements(By.CSS_SELECTOR, 'div.review-container')\n",
    "first_review = reviews[0]\n",
    "sel2 = Selector(text = first_review.get_attribute('innerHTML'))\n",
    "rating = sel2.css('.rating-other-user-rating span::text').extract_first().strip()"
   ]
  },
  {
   "cell_type": "code",
   "execution_count": 7,
   "metadata": {},
   "outputs": [
    {
     "name": "stdout",
     "output_type": "stream",
     "text": [
      "nRating: 10\n",
      "nreview_title: The most peculiar Star Wars and under appreciated\n",
      "nAuthor: UniqueParticle\n",
      "nreview_date: 16 January 2020\n",
      "nreview: Totally should've won at least some of the awards it was nominated for! A very different adventure story with lots of adorable characters, more truths and the epic Emperor Palpatine! I love all the majestic forest aspects. Still crazy to me that they filmed so many parts especially the chases. The bulk of this art in cinema is done so well and always entertaining. Quite lovable many years later and not many movies have that kind of force!\n"
     ]
    }
   ],
   "source": [
    "review = sel2.css('.text.show-more__control::text').extract_first().strip()\n",
    "review_date = sel2.css('.review-date::text').extract_first().strip()\n",
    "author = sel2.css('.display-name-link a::text').extract_first().strip()\n",
    "review_title = sel2.css('a.title::text').extract_first().strip()\n",
    "review_url = sel2.css('a.title::attr(href)').extract_first().strip()\n",
    "#helpfulness = sel2.css('.actions.text-muted::text').extract_first().strip()\n",
    "print('nRating:',rating)\n",
    "print('nreview_title:',review_title)\n",
    "print('nAuthor:',author)\n",
    "print('nreview_date:',review_date)\n",
    "print('nreview:',review)\n",
    "#print('nhelpfulness:',helpfulness)"
   ]
  },
  {
   "cell_type": "code",
   "execution_count": 8,
   "metadata": {},
   "outputs": [
    {
     "name": "stderr",
     "output_type": "stream",
     "text": [
      "100%|██████████| 940/940 [00:24<00:00, 38.99it/s]\n"
     ]
    }
   ],
   "source": [
    "rating_list = []\n",
    "review_date_list = []\n",
    "review_title_list = []\n",
    "author_list = []\n",
    "review_list = []\n",
    "review_url_list = []\n",
    "error_url_list = []\n",
    "error_msg_list = []\n",
    "reviews = driver.find_elements(By.CSS_SELECTOR, 'div.review-container')\n",
    "\n",
    "for d in tqdm(reviews):\n",
    "    try:\n",
    "        sel2 = Selector(text = d.get_attribute('innerHTML'))\n",
    "        try:\n",
    "            rating = sel2.css('.rating-other-user-rating span::text').extract_first()\n",
    "        except:\n",
    "            rating = np.NaN\n",
    "        try:\n",
    "            review = sel2.css('.text.show-more__control::text').extract_first()\n",
    "        except:\n",
    "            review = np.NaN\n",
    "        try:\n",
    "            review_date = sel2.css('.review-date::text').extract_first()\n",
    "        except:\n",
    "            review_date = np.NaN    \n",
    "        try:\n",
    "            author = sel2.css('.display-name-link a::text').extract_first()\n",
    "        except:\n",
    "            author = np.NaN    \n",
    "        try:\n",
    "            review_title = sel2.css('a.title::text').extract_first()\n",
    "        except:\n",
    "            review_title = np.NaN\n",
    "        try:\n",
    "            review_url = sel2.css('a.title::attr(href)').extract_first()\n",
    "        except:\n",
    "            review_url = np.NaN\n",
    "        rating_list.append(rating)\n",
    "        review_date_list.append(review_date)\n",
    "        review_title_list.append(review_title)\n",
    "        author_list.append(author)\n",
    "        review_list.append(review)\n",
    "        review_url_list.append(review_url)\n",
    "    except Exception as e:\n",
    "        error_url_list.append(url)\n",
    "        error_msg_list.append(e)\n",
    "review_df = pd.DataFrame({\n",
    "    'Review_Date':review_date_list,\n",
    "    'Author':author_list,\n",
    "    'Rating':rating_list,\n",
    "    'Review_Title':review_title_list,\n",
    "    'Review':review_list,\n",
    "    'Review_Url':review_url\n",
    "    })"
   ]
  },
  {
   "cell_type": "code",
   "execution_count": 9,
   "metadata": {},
   "outputs": [
    {
     "data": {
      "text/html": [
       "<div>\n",
       "<style scoped>\n",
       "    .dataframe tbody tr th:only-of-type {\n",
       "        vertical-align: middle;\n",
       "    }\n",
       "\n",
       "    .dataframe tbody tr th {\n",
       "        vertical-align: top;\n",
       "    }\n",
       "\n",
       "    .dataframe thead th {\n",
       "        text-align: right;\n",
       "    }\n",
       "</style>\n",
       "<table border=\"1\" class=\"dataframe\">\n",
       "  <thead>\n",
       "    <tr style=\"text-align: right;\">\n",
       "      <th></th>\n",
       "      <th>Review_Date</th>\n",
       "      <th>Author</th>\n",
       "      <th>Rating</th>\n",
       "      <th>Review_Title</th>\n",
       "      <th>Review</th>\n",
       "      <th>Review_Url</th>\n",
       "    </tr>\n",
       "  </thead>\n",
       "  <tbody>\n",
       "    <tr>\n",
       "      <th>0</th>\n",
       "      <td>16 January 2020</td>\n",
       "      <td>UniqueParticle</td>\n",
       "      <td>10</td>\n",
       "      <td>The most peculiar Star Wars and under appreci...</td>\n",
       "      <td>Totally should've won at least some of the awa...</td>\n",
       "      <td>/review/rw4680668/?ref_=tt_urv</td>\n",
       "    </tr>\n",
       "    <tr>\n",
       "      <th>1</th>\n",
       "      <td>2 December 2005</td>\n",
       "      <td>evanston_dad</td>\n",
       "      <td>10</td>\n",
       "      <td>The Boy Who Loved \"Star Wars\"\\n</td>\n",
       "      <td>A long time ago, in a galaxy far, far away.......</td>\n",
       "      <td>/review/rw4680668/?ref_=tt_urv</td>\n",
       "    </tr>\n",
       "    <tr>\n",
       "      <th>2</th>\n",
       "      <td>12 February 2006</td>\n",
       "      <td>ccthemovieman-1</td>\n",
       "      <td>9</td>\n",
       "      <td>One Of The Best In The Series\\n</td>\n",
       "      <td>Up until the sixth and last episode of the Sta...</td>\n",
       "      <td>/review/rw4680668/?ref_=tt_urv</td>\n",
       "    </tr>\n",
       "    <tr>\n",
       "      <th>3</th>\n",
       "      <td>30 March 2020</td>\n",
       "      <td>bevo-13678</td>\n",
       "      <td>10</td>\n",
       "      <td>Good\\n</td>\n",
       "      <td>I like the bit when the ewoks crush an ATST wi...</td>\n",
       "      <td>/review/rw4680668/?ref_=tt_urv</td>\n",
       "    </tr>\n",
       "    <tr>\n",
       "      <th>4</th>\n",
       "      <td>28 April 2016</td>\n",
       "      <td>ivo-cobra8</td>\n",
       "      <td>8</td>\n",
       "      <td>Flawed, very entertaining solid third sequel ...</td>\n",
       "      <td>Star Wars: Episode VI – Return of the Jedi (19...</td>\n",
       "      <td>/review/rw4680668/?ref_=tt_urv</td>\n",
       "    </tr>\n",
       "    <tr>\n",
       "      <th>...</th>\n",
       "      <td>...</td>\n",
       "      <td>...</td>\n",
       "      <td>...</td>\n",
       "      <td>...</td>\n",
       "      <td>...</td>\n",
       "      <td>...</td>\n",
       "    </tr>\n",
       "    <tr>\n",
       "      <th>935</th>\n",
       "      <td>19 August 2016</td>\n",
       "      <td>lanamay-03293</td>\n",
       "      <td>8</td>\n",
       "      <td>A Great Film\\n</td>\n",
       "      <td>I was never into the star wars films so i neve...</td>\n",
       "      <td>/review/rw4680668/?ref_=tt_urv</td>\n",
       "    </tr>\n",
       "    <tr>\n",
       "      <th>936</th>\n",
       "      <td>2 August 2022</td>\n",
       "      <td>kghijselinck</td>\n",
       "      <td>10</td>\n",
       "      <td>Tribute to John Williams\\n</td>\n",
       "      <td>A couple of weeks ago I had (again) the opport...</td>\n",
       "      <td>/review/rw4680668/?ref_=tt_urv</td>\n",
       "    </tr>\n",
       "    <tr>\n",
       "      <th>937</th>\n",
       "      <td>1 April 2019</td>\n",
       "      <td>mrklein-84525</td>\n",
       "      <td>9</td>\n",
       "      <td>Family values\\n</td>\n",
       "      <td>As a cub viewing the scene where father saves ...</td>\n",
       "      <td>/review/rw4680668/?ref_=tt_urv</td>\n",
       "    </tr>\n",
       "    <tr>\n",
       "      <th>938</th>\n",
       "      <td>10 September 2006</td>\n",
       "      <td>dolius</td>\n",
       "      <td>10</td>\n",
       "      <td>Good Ending And Good Movie\\n</td>\n",
       "      <td>As Most Off You Might off Seen Star Wars: Retu...</td>\n",
       "      <td>/review/rw4680668/?ref_=tt_urv</td>\n",
       "    </tr>\n",
       "    <tr>\n",
       "      <th>939</th>\n",
       "      <td>23 February 2019</td>\n",
       "      <td>mateosoloeta</td>\n",
       "      <td>8</td>\n",
       "      <td>faje\\n</td>\n",
       "      <td>Aburrido, lo mismo de siempre, androides, futu...</td>\n",
       "      <td>/review/rw4680668/?ref_=tt_urv</td>\n",
       "    </tr>\n",
       "  </tbody>\n",
       "</table>\n",
       "<p>940 rows × 6 columns</p>\n",
       "</div>"
      ],
      "text/plain": [
       "           Review_Date           Author Rating  \\\n",
       "0      16 January 2020   UniqueParticle     10   \n",
       "1      2 December 2005     evanston_dad     10   \n",
       "2     12 February 2006  ccthemovieman-1      9   \n",
       "3        30 March 2020       bevo-13678     10   \n",
       "4        28 April 2016       ivo-cobra8      8   \n",
       "..                 ...              ...    ...   \n",
       "935     19 August 2016    lanamay-03293      8   \n",
       "936      2 August 2022     kghijselinck     10   \n",
       "937       1 April 2019    mrklein-84525      9   \n",
       "938  10 September 2006           dolius     10   \n",
       "939   23 February 2019     mateosoloeta      8   \n",
       "\n",
       "                                          Review_Title  \\\n",
       "0     The most peculiar Star Wars and under appreci...   \n",
       "1                      The Boy Who Loved \"Star Wars\"\\n   \n",
       "2                      One Of The Best In The Series\\n   \n",
       "3                                               Good\\n   \n",
       "4     Flawed, very entertaining solid third sequel ...   \n",
       "..                                                 ...   \n",
       "935                                     A Great Film\\n   \n",
       "936                         Tribute to John Williams\\n   \n",
       "937                                    Family values\\n   \n",
       "938                       Good Ending And Good Movie\\n   \n",
       "939                                             faje\\n   \n",
       "\n",
       "                                                Review  \\\n",
       "0    Totally should've won at least some of the awa...   \n",
       "1    A long time ago, in a galaxy far, far away.......   \n",
       "2    Up until the sixth and last episode of the Sta...   \n",
       "3    I like the bit when the ewoks crush an ATST wi...   \n",
       "4    Star Wars: Episode VI – Return of the Jedi (19...   \n",
       "..                                                 ...   \n",
       "935  I was never into the star wars films so i neve...   \n",
       "936  A couple of weeks ago I had (again) the opport...   \n",
       "937  As a cub viewing the scene where father saves ...   \n",
       "938  As Most Off You Might off Seen Star Wars: Retu...   \n",
       "939  Aburrido, lo mismo de siempre, androides, futu...   \n",
       "\n",
       "                         Review_Url  \n",
       "0    /review/rw4680668/?ref_=tt_urv  \n",
       "1    /review/rw4680668/?ref_=tt_urv  \n",
       "2    /review/rw4680668/?ref_=tt_urv  \n",
       "3    /review/rw4680668/?ref_=tt_urv  \n",
       "4    /review/rw4680668/?ref_=tt_urv  \n",
       "..                              ...  \n",
       "935  /review/rw4680668/?ref_=tt_urv  \n",
       "936  /review/rw4680668/?ref_=tt_urv  \n",
       "937  /review/rw4680668/?ref_=tt_urv  \n",
       "938  /review/rw4680668/?ref_=tt_urv  \n",
       "939  /review/rw4680668/?ref_=tt_urv  \n",
       "\n",
       "[940 rows x 6 columns]"
      ]
     },
     "execution_count": 9,
     "metadata": {},
     "output_type": "execute_result"
    }
   ],
   "source": [
    "review_df"
   ]
  },
  {
   "cell_type": "code",
   "execution_count": 10,
   "metadata": {},
   "outputs": [],
   "source": [
    "#953 reviews"
   ]
  },
  {
   "cell_type": "code",
   "execution_count": 13,
   "metadata": {},
   "outputs": [],
   "source": [
    "#review_df.to_csv(r'D:\\UMD Master Year 2 College Work\\Fall 2022-2023\\INST737-IM01\\INST737_Star_Wars_IMDB_StarWars6.csv')"
   ]
  },
  {
   "cell_type": "code",
   "execution_count": null,
   "metadata": {},
   "outputs": [],
   "source": []
  }
 ],
 "metadata": {
  "colab": {
   "provenance": []
  },
  "kernelspec": {
   "display_name": "Python 3",
   "language": "python",
   "name": "python3"
  },
  "language_info": {
   "codemirror_mode": {
    "name": "ipython",
    "version": 3
   },
   "file_extension": ".py",
   "mimetype": "text/x-python",
   "name": "python",
   "nbconvert_exporter": "python",
   "pygments_lexer": "ipython3",
   "version": "3.8.5"
  }
 },
 "nbformat": 4,
 "nbformat_minor": 1
}
