{
 "cells": [
  {
   "cell_type": "code",
   "execution_count": 1,
   "metadata": {
    "colab": {
     "base_uri": "https://localhost:8080/"
    },
    "id": "GLbm4wsfDtdH",
    "outputId": "2aa6e65a-bd76-4d72-f935-f0e715bf87e5"
   },
   "outputs": [],
   "source": [
    "#!pip install selenium\n",
    "#!pip install scrapy"
   ]
  },
  {
   "cell_type": "code",
   "execution_count": 2,
   "metadata": {
    "id": "cR0zU3aeD6Fd"
   },
   "outputs": [],
   "source": [
    "import numpy as np\n",
    "import pandas as pd\n",
    "from scrapy.selector import Selector\n",
    "from selenium import webdriver \n",
    "from selenium.webdriver.common.by import By\n",
    "from selenium.webdriver.common.keys import Keys\n",
    "import time\n",
    "from tqdm import tqdm\n",
    "import warnings\n",
    "warnings.filterwarnings(\"ignore\")\n",
    "import random"
   ]
  },
  {
   "cell_type": "code",
   "execution_count": 3,
   "metadata": {
    "colab": {
     "base_uri": "https://localhost:8080/",
     "height": 432
    },
    "id": "kWmMr7h6D6Jr",
    "outputId": "a9db3d96-6727-40c1-b18d-173cbf58a2dc"
   },
   "outputs": [
    {
     "name": "stdout",
     "output_type": "stream",
     "text": [
      "Star Wars: Episode VII - The Force Awakens (2015) - Star Wars: Episode VII - The Force Awakens (2015) - User Reviews - IMDb\n"
     ]
    }
   ],
   "source": [
    "driver = webdriver.Chrome(r'D:\\UMD Master Year 2 College Work\\Fall 2022-2023\\INST737-IM01\\chromedriver')\n",
    "url = 'https://www.imdb.com/title/tt2488496/reviews?ref_=tt_ov_rt'\n",
    "randomNumber = random.randint(0,4)\n",
    "time.sleep(1)\n",
    "driver.get(url)\n",
    "time.sleep(1)\n",
    "print(driver.title)\n",
    "time.sleep(1)\n",
    "body = driver.find_element(By.CSS_SELECTOR, 'body')\n",
    "body.send_keys(Keys.END)\n",
    "time.sleep(randomNumber)\n",
    "# body.send_keys(Keys.PAGE_DOWN)\n",
    "# time.sleep(1)\n",
    "# body.send_keys(Keys.PAGE_DOWN)\n",
    "# time.sleep(1)\n",
    "# body.send_keys(Keys.PAGE_DOWN)"
   ]
  },
  {
   "cell_type": "code",
   "execution_count": 4,
   "metadata": {
    "id": "p9Fncx9yD6Se"
   },
   "outputs": [],
   "source": [
    "sel = Selector(text = driver.page_source)\n",
    "review_counts = sel.css('.lister .header span::text').extract_first().replace(',','').split(' ')[0]\n",
    "more_review_pages = int(int(review_counts)/25)"
   ]
  },
  {
   "cell_type": "code",
   "execution_count": 5,
   "metadata": {
    "id": "-l5GCsPeD6YD"
   },
   "outputs": [
    {
     "name": "stderr",
     "output_type": "stream",
     "text": [
      "100%|██████████| 202/202 [18:48<00:00,  5.59s/it]\n"
     ]
    }
   ],
   "source": [
    "for i in tqdm(range(more_review_pages)):\n",
    "    try:\n",
    "        css_selector = 'load-more-trigger'\n",
    "        driver.find_element(By.ID, css_selector).click()\n",
    "        body.send_keys(Keys.END)\n",
    "        time.sleep(randomNumber)\n",
    "    except:\n",
    "        pass"
   ]
  },
  {
   "cell_type": "code",
   "execution_count": 6,
   "metadata": {},
   "outputs": [],
   "source": [
    "reviews = driver.find_elements(By.CSS_SELECTOR, 'div.review-container')\n",
    "first_review = reviews[0]\n",
    "sel2 = Selector(text = first_review.get_attribute('innerHTML'))\n",
    "rating = sel2.css('.rating-other-user-rating span::text').extract_first().strip()"
   ]
  },
  {
   "cell_type": "code",
   "execution_count": 7,
   "metadata": {},
   "outputs": [
    {
     "name": "stdout",
     "output_type": "stream",
     "text": [
      "nRating: 1\n",
      "nreview_title: Reboot, Sequel, Prequel, Re-Imagining Rebrand. Welcome to the Modern Hollywood.\n",
      "nAuthor: Prichards12345\n",
      "nreview_date: 19 January 2016\n",
      "nreview: Star Wars movies used to be great. Remember that? Remember how they inspired a generation of loyal fans? Remember how they virtually saved cinema from terminal audience decline in the 70s? So scoot forward 40 years, and see the empty soulless rubbish lapped up by brainwashed Pavlovian audiences and critics. How much did Disney pay the critics for all those gushing reviews? Either that or the art of film criticism has been lost.\n"
     ]
    }
   ],
   "source": [
    "review = sel2.css('.text.show-more__control::text').extract_first().strip()\n",
    "review_date = sel2.css('.review-date::text').extract_first().strip()\n",
    "author = sel2.css('.display-name-link a::text').extract_first().strip()\n",
    "review_title = sel2.css('a.title::text').extract_first().strip()\n",
    "review_url = sel2.css('a.title::attr(href)').extract_first().strip()\n",
    "#helpfulness = sel2.css('.actions.text-muted::text').extract_first().strip()\n",
    "print('nRating:',rating)\n",
    "print('nreview_title:',review_title)\n",
    "print('nAuthor:',author)\n",
    "print('nreview_date:',review_date)\n",
    "print('nreview:',review)\n",
    "#print('nhelpfulness:',helpfulness)"
   ]
  },
  {
   "cell_type": "code",
   "execution_count": 8,
   "metadata": {},
   "outputs": [
    {
     "name": "stderr",
     "output_type": "stream",
     "text": [
      "100%|██████████| 5062/5062 [03:14<00:00, 26.09it/s]\n"
     ]
    }
   ],
   "source": [
    "rating_list = []\n",
    "review_date_list = []\n",
    "review_title_list = []\n",
    "author_list = []\n",
    "review_list = []\n",
    "review_url_list = []\n",
    "error_url_list = []\n",
    "error_msg_list = []\n",
    "reviews = driver.find_elements(By.CSS_SELECTOR, 'div.review-container')\n",
    "\n",
    "for d in tqdm(reviews):\n",
    "    try:\n",
    "        sel2 = Selector(text = d.get_attribute('innerHTML'))\n",
    "        try:\n",
    "            rating = sel2.css('.rating-other-user-rating span::text').extract_first()\n",
    "        except:\n",
    "            rating = np.NaN\n",
    "        try:\n",
    "            review = sel2.css('.text.show-more__control::text').extract_first()\n",
    "        except:\n",
    "            review = np.NaN\n",
    "        try:\n",
    "            review_date = sel2.css('.review-date::text').extract_first()\n",
    "        except:\n",
    "            review_date = np.NaN    \n",
    "        try:\n",
    "            author = sel2.css('.display-name-link a::text').extract_first()\n",
    "        except:\n",
    "            author = np.NaN    \n",
    "        try:\n",
    "            review_title = sel2.css('a.title::text').extract_first()\n",
    "        except:\n",
    "            review_title = np.NaN\n",
    "        try:\n",
    "            review_url = sel2.css('a.title::attr(href)').extract_first()\n",
    "        except:\n",
    "            review_url = np.NaN\n",
    "        rating_list.append(rating)\n",
    "        review_date_list.append(review_date)\n",
    "        review_title_list.append(review_title)\n",
    "        author_list.append(author)\n",
    "        review_list.append(review)\n",
    "        review_url_list.append(review_url)\n",
    "    except Exception as e:\n",
    "        error_url_list.append(url)\n",
    "        error_msg_list.append(e)\n",
    "review_df = pd.DataFrame({\n",
    "    'Review_Date':review_date_list,\n",
    "    'Author':author_list,\n",
    "    'Rating':rating_list,\n",
    "    'Review_Title':review_title_list,\n",
    "    'Review':review_list,\n",
    "    'Review_Url':review_url\n",
    "    })"
   ]
  },
  {
   "cell_type": "code",
   "execution_count": 9,
   "metadata": {},
   "outputs": [
    {
     "data": {
      "text/html": [
       "<div>\n",
       "<style scoped>\n",
       "    .dataframe tbody tr th:only-of-type {\n",
       "        vertical-align: middle;\n",
       "    }\n",
       "\n",
       "    .dataframe tbody tr th {\n",
       "        vertical-align: top;\n",
       "    }\n",
       "\n",
       "    .dataframe thead th {\n",
       "        text-align: right;\n",
       "    }\n",
       "</style>\n",
       "<table border=\"1\" class=\"dataframe\">\n",
       "  <thead>\n",
       "    <tr style=\"text-align: right;\">\n",
       "      <th></th>\n",
       "      <th>Review_Date</th>\n",
       "      <th>Author</th>\n",
       "      <th>Rating</th>\n",
       "      <th>Review_Title</th>\n",
       "      <th>Review</th>\n",
       "      <th>Review_Url</th>\n",
       "    </tr>\n",
       "  </thead>\n",
       "  <tbody>\n",
       "    <tr>\n",
       "      <th>0</th>\n",
       "      <td>19 January 2016</td>\n",
       "      <td>Prichards12345</td>\n",
       "      <td>1</td>\n",
       "      <td>Reboot, Sequel, Prequel, Re-Imagining Rebrand...</td>\n",
       "      <td>Star Wars movies used to be great. Remember th...</td>\n",
       "      <td>/review/rw8471926/?ref_=tt_urv</td>\n",
       "    </tr>\n",
       "    <tr>\n",
       "      <th>1</th>\n",
       "      <td>14 January 2016</td>\n",
       "      <td>mcgrew</td>\n",
       "      <td>2</td>\n",
       "      <td>JJ does it again (and not in the good way)\\n</td>\n",
       "      <td>You'll notice that SW7 only has a \"based on ch...</td>\n",
       "      <td>/review/rw8471926/?ref_=tt_urv</td>\n",
       "    </tr>\n",
       "    <tr>\n",
       "      <th>2</th>\n",
       "      <td>7 April 2016</td>\n",
       "      <td>jaredpahl</td>\n",
       "      <td>1</td>\n",
       "      <td>Disney Sponsored Fan Fiction. The Force Awake...</td>\n",
       "      <td>For those praising this film,</td>\n",
       "      <td>/review/rw8471926/?ref_=tt_urv</td>\n",
       "    </tr>\n",
       "    <tr>\n",
       "      <th>3</th>\n",
       "      <td>19 February 2016</td>\n",
       "      <td>Searsino</td>\n",
       "      <td>2</td>\n",
       "      <td>Star Wars: The Force is for Everyone Apparent...</td>\n",
       "      <td>Context: I grew up on these films. I didn't th...</td>\n",
       "      <td>/review/rw8471926/?ref_=tt_urv</td>\n",
       "    </tr>\n",
       "    <tr>\n",
       "      <th>4</th>\n",
       "      <td>4 April 2016</td>\n",
       "      <td>LouieInLove</td>\n",
       "      <td>3</td>\n",
       "      <td>Disney's Hype Wars Won. Star Wars Did Not - A...</td>\n",
       "      <td>Following the mass-marketing campaign extraord...</td>\n",
       "      <td>/review/rw8471926/?ref_=tt_urv</td>\n",
       "    </tr>\n",
       "    <tr>\n",
       "      <th>...</th>\n",
       "      <td>...</td>\n",
       "      <td>...</td>\n",
       "      <td>...</td>\n",
       "      <td>...</td>\n",
       "      <td>...</td>\n",
       "      <td>...</td>\n",
       "    </tr>\n",
       "    <tr>\n",
       "      <th>5057</th>\n",
       "      <td>17 February 2016</td>\n",
       "      <td>actionmaster</td>\n",
       "      <td>None</td>\n",
       "      <td>Great, but not Fantastic\\n</td>\n",
       "      <td>This is a Great movie and it will be the same ...</td>\n",
       "      <td>/review/rw8471926/?ref_=tt_urv</td>\n",
       "    </tr>\n",
       "    <tr>\n",
       "      <th>5058</th>\n",
       "      <td>14 December 2016</td>\n",
       "      <td>koriu</td>\n",
       "      <td>7</td>\n",
       "      <td>Good old Star Wars action but déjà vu\\n</td>\n",
       "      <td>First of all, as a huge Star Wars fan, I find ...</td>\n",
       "      <td>/review/rw8471926/?ref_=tt_urv</td>\n",
       "    </tr>\n",
       "    <tr>\n",
       "      <th>5059</th>\n",
       "      <td>27 October 2019</td>\n",
       "      <td>tommyhug</td>\n",
       "      <td>None</td>\n",
       "      <td>Darkness lies\\n</td>\n",
       "      <td>She lied. No wrist, only me trying leave her. ...</td>\n",
       "      <td>/review/rw8471926/?ref_=tt_urv</td>\n",
       "    </tr>\n",
       "    <tr>\n",
       "      <th>5060</th>\n",
       "      <td>3 August 2018</td>\n",
       "      <td>jaroschjr</td>\n",
       "      <td>8</td>\n",
       "      <td>The Prodigal Son Come Home at Last\\n</td>\n",
       "      <td>This movie is flawed, to say the least. Most o...</td>\n",
       "      <td>/review/rw8471926/?ref_=tt_urv</td>\n",
       "    </tr>\n",
       "    <tr>\n",
       "      <th>5061</th>\n",
       "      <td>21 August 2022</td>\n",
       "      <td>apmessner</td>\n",
       "      <td>1</td>\n",
       "      <td>Episode IV, But Worse\\n</td>\n",
       "      <td>If you've ever wished there was a version of S...</td>\n",
       "      <td>/review/rw8471926/?ref_=tt_urv</td>\n",
       "    </tr>\n",
       "  </tbody>\n",
       "</table>\n",
       "<p>5062 rows × 6 columns</p>\n",
       "</div>"
      ],
      "text/plain": [
       "           Review_Date          Author Rating  \\\n",
       "0      19 January 2016  Prichards12345      1   \n",
       "1      14 January 2016          mcgrew      2   \n",
       "2         7 April 2016       jaredpahl      1   \n",
       "3     19 February 2016        Searsino      2   \n",
       "4         4 April 2016     LouieInLove      3   \n",
       "...                ...             ...    ...   \n",
       "5057  17 February 2016    actionmaster   None   \n",
       "5058  14 December 2016           koriu      7   \n",
       "5059   27 October 2019        tommyhug   None   \n",
       "5060     3 August 2018       jaroschjr      8   \n",
       "5061    21 August 2022       apmessner      1   \n",
       "\n",
       "                                           Review_Title  \\\n",
       "0      Reboot, Sequel, Prequel, Re-Imagining Rebrand...   \n",
       "1          JJ does it again (and not in the good way)\\n   \n",
       "2      Disney Sponsored Fan Fiction. The Force Awake...   \n",
       "3      Star Wars: The Force is for Everyone Apparent...   \n",
       "4      Disney's Hype Wars Won. Star Wars Did Not - A...   \n",
       "...                                                 ...   \n",
       "5057                         Great, but not Fantastic\\n   \n",
       "5058            Good old Star Wars action but déjà vu\\n   \n",
       "5059                                    Darkness lies\\n   \n",
       "5060               The Prodigal Son Come Home at Last\\n   \n",
       "5061                            Episode IV, But Worse\\n   \n",
       "\n",
       "                                                 Review  \\\n",
       "0     Star Wars movies used to be great. Remember th...   \n",
       "1     You'll notice that SW7 only has a \"based on ch...   \n",
       "2                        For those praising this film,    \n",
       "3     Context: I grew up on these films. I didn't th...   \n",
       "4     Following the mass-marketing campaign extraord...   \n",
       "...                                                 ...   \n",
       "5057  This is a Great movie and it will be the same ...   \n",
       "5058  First of all, as a huge Star Wars fan, I find ...   \n",
       "5059  She lied. No wrist, only me trying leave her. ...   \n",
       "5060  This movie is flawed, to say the least. Most o...   \n",
       "5061  If you've ever wished there was a version of S...   \n",
       "\n",
       "                          Review_Url  \n",
       "0     /review/rw8471926/?ref_=tt_urv  \n",
       "1     /review/rw8471926/?ref_=tt_urv  \n",
       "2     /review/rw8471926/?ref_=tt_urv  \n",
       "3     /review/rw8471926/?ref_=tt_urv  \n",
       "4     /review/rw8471926/?ref_=tt_urv  \n",
       "...                              ...  \n",
       "5057  /review/rw8471926/?ref_=tt_urv  \n",
       "5058  /review/rw8471926/?ref_=tt_urv  \n",
       "5059  /review/rw8471926/?ref_=tt_urv  \n",
       "5060  /review/rw8471926/?ref_=tt_urv  \n",
       "5061  /review/rw8471926/?ref_=tt_urv  \n",
       "\n",
       "[5062 rows x 6 columns]"
      ]
     },
     "execution_count": 9,
     "metadata": {},
     "output_type": "execute_result"
    }
   ],
   "source": [
    "review_df"
   ]
  },
  {
   "cell_type": "code",
   "execution_count": 10,
   "metadata": {},
   "outputs": [],
   "source": [
    "#5065 reviews"
   ]
  },
  {
   "cell_type": "code",
   "execution_count": 13,
   "metadata": {},
   "outputs": [],
   "source": [
    "#review_df.to_csv(r'D:\\UMD Master Year 2 College Work\\Fall 2022-2023\\INST737-IM01\\INST737_Star_Wars_IMDB_StarWars7.csv')"
   ]
  },
  {
   "cell_type": "code",
   "execution_count": null,
   "metadata": {},
   "outputs": [],
   "source": []
  }
 ],
 "metadata": {
  "colab": {
   "provenance": []
  },
  "kernelspec": {
   "display_name": "Python 3",
   "language": "python",
   "name": "python3"
  },
  "language_info": {
   "codemirror_mode": {
    "name": "ipython",
    "version": 3
   },
   "file_extension": ".py",
   "mimetype": "text/x-python",
   "name": "python",
   "nbconvert_exporter": "python",
   "pygments_lexer": "ipython3",
   "version": "3.8.5"
  }
 },
 "nbformat": 4,
 "nbformat_minor": 1
}
