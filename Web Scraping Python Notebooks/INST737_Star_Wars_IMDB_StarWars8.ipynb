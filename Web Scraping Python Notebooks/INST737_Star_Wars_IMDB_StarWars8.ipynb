{
 "cells": [
  {
   "cell_type": "code",
   "execution_count": 1,
   "metadata": {
    "colab": {
     "base_uri": "https://localhost:8080/"
    },
    "id": "GLbm4wsfDtdH",
    "outputId": "2aa6e65a-bd76-4d72-f935-f0e715bf87e5"
   },
   "outputs": [],
   "source": [
    "#!pip install selenium\n",
    "#!pip install scrapy"
   ]
  },
  {
   "cell_type": "code",
   "execution_count": 2,
   "metadata": {
    "id": "cR0zU3aeD6Fd"
   },
   "outputs": [],
   "source": [
    "import numpy as np\n",
    "import pandas as pd\n",
    "from scrapy.selector import Selector\n",
    "from selenium import webdriver \n",
    "from selenium.webdriver.common.by import By\n",
    "from selenium.webdriver.common.keys import Keys\n",
    "import time\n",
    "from tqdm import tqdm\n",
    "import warnings\n",
    "warnings.filterwarnings(\"ignore\")\n",
    "import random"
   ]
  },
  {
   "cell_type": "code",
   "execution_count": 3,
   "metadata": {
    "colab": {
     "base_uri": "https://localhost:8080/",
     "height": 432
    },
    "id": "kWmMr7h6D6Jr",
    "outputId": "a9db3d96-6727-40c1-b18d-173cbf58a2dc"
   },
   "outputs": [
    {
     "name": "stdout",
     "output_type": "stream",
     "text": [
      "Star Wars: Episode VIII - The Last Jedi (2017) - Star Wars: Episode VIII - The Last Jedi (2017) - User Reviews - IMDb\n"
     ]
    }
   ],
   "source": [
    "driver = webdriver.Chrome(r'D:\\UMD Master Year 2 College Work\\Fall 2022-2023\\INST737-IM01\\chromedriver')\n",
    "url = 'https://www.imdb.com/title/tt2527336/reviews?ref_=tt_ov_rt'\n",
    "randomNumber = random.randint(0,4)\n",
    "time.sleep(1)\n",
    "driver.get(url)\n",
    "time.sleep(1)\n",
    "print(driver.title)\n",
    "time.sleep(1)\n",
    "body = driver.find_element(By.CSS_SELECTOR, 'body')\n",
    "body.send_keys(Keys.END)\n",
    "time.sleep(randomNumber)\n",
    "# body.send_keys(Keys.PAGE_DOWN)\n",
    "# time.sleep(1)\n",
    "# body.send_keys(Keys.PAGE_DOWN)\n",
    "# time.sleep(1)\n",
    "# body.send_keys(Keys.PAGE_DOWN)"
   ]
  },
  {
   "cell_type": "code",
   "execution_count": 4,
   "metadata": {
    "id": "p9Fncx9yD6Se"
   },
   "outputs": [],
   "source": [
    "sel = Selector(text = driver.page_source)\n",
    "review_counts = sel.css('.lister .header span::text').extract_first().replace(',','').split(' ')[0]\n",
    "more_review_pages = int(int(review_counts)/25)"
   ]
  },
  {
   "cell_type": "code",
   "execution_count": 5,
   "metadata": {
    "id": "-l5GCsPeD6YD"
   },
   "outputs": [
    {
     "name": "stderr",
     "output_type": "stream",
     "text": [
      "100%|██████████| 283/283 [23:16<00:00,  4.93s/it]\n"
     ]
    }
   ],
   "source": [
    "for i in tqdm(range(more_review_pages)):\n",
    "    try:\n",
    "        css_selector = 'load-more-trigger'\n",
    "        driver.find_element(By.ID, css_selector).click()\n",
    "        body.send_keys(Keys.END)\n",
    "        time.sleep(randomNumber)\n",
    "    except:\n",
    "        pass"
   ]
  },
  {
   "cell_type": "code",
   "execution_count": 6,
   "metadata": {},
   "outputs": [],
   "source": [
    "reviews = driver.find_elements(By.CSS_SELECTOR, 'div.review-container')\n",
    "first_review = reviews[0]\n",
    "sel2 = Selector(text = first_review.get_attribute('innerHTML'))\n",
    "rating = sel2.css('.rating-other-user-rating span::text').extract_first().strip()"
   ]
  },
  {
   "cell_type": "code",
   "execution_count": 7,
   "metadata": {},
   "outputs": [
    {
     "name": "stdout",
     "output_type": "stream",
     "text": [
      "nRating: 3\n",
      "nreview_title: I'm going to keep this short (unlike the film).\n",
      "nAuthor: BA_Harrison\n",
      "nreview_date: 24 December 2017\n",
      "nreview: After George Lucas's execrable prequels and the mediocre The Force Awakens, I've learnt to keep my expectations low for any new Star Wars films in order to avoid total disappointment. Having just seen The Last Jedi, it appears that I haven't been keeping them low enough.\n"
     ]
    }
   ],
   "source": [
    "review = sel2.css('.text.show-more__control::text').extract_first().strip()\n",
    "review_date = sel2.css('.review-date::text').extract_first().strip()\n",
    "author = sel2.css('.display-name-link a::text').extract_first().strip()\n",
    "review_title = sel2.css('a.title::text').extract_first().strip()\n",
    "review_url = sel2.css('a.title::attr(href)').extract_first().strip()\n",
    "#helpfulness = sel2.css('.actions.text-muted::text').extract_first().strip()\n",
    "print('nRating:',rating)\n",
    "print('nreview_title:',review_title)\n",
    "print('nAuthor:',author)\n",
    "print('nreview_date:',review_date)\n",
    "print('nreview:',review)\n",
    "#print('nhelpfulness:',helpfulness)"
   ]
  },
  {
   "cell_type": "code",
   "execution_count": 8,
   "metadata": {},
   "outputs": [
    {
     "name": "stderr",
     "output_type": "stream",
     "text": [
      "100%|██████████| 7086/7086 [05:37<00:00, 20.99it/s]\n"
     ]
    }
   ],
   "source": [
    "rating_list = []\n",
    "review_date_list = []\n",
    "review_title_list = []\n",
    "author_list = []\n",
    "review_list = []\n",
    "review_url_list = []\n",
    "error_url_list = []\n",
    "error_msg_list = []\n",
    "reviews = driver.find_elements(By.CSS_SELECTOR, 'div.review-container')\n",
    "\n",
    "for d in tqdm(reviews):\n",
    "    try:\n",
    "        sel2 = Selector(text = d.get_attribute('innerHTML'))\n",
    "        try:\n",
    "            rating = sel2.css('.rating-other-user-rating span::text').extract_first()\n",
    "        except:\n",
    "            rating = np.NaN\n",
    "        try:\n",
    "            review = sel2.css('.text.show-more__control::text').extract_first()\n",
    "        except:\n",
    "            review = np.NaN\n",
    "        try:\n",
    "            review_date = sel2.css('.review-date::text').extract_first()\n",
    "        except:\n",
    "            review_date = np.NaN    \n",
    "        try:\n",
    "            author = sel2.css('.display-name-link a::text').extract_first()\n",
    "        except:\n",
    "            author = np.NaN    \n",
    "        try:\n",
    "            review_title = sel2.css('a.title::text').extract_first()\n",
    "        except:\n",
    "            review_title = np.NaN\n",
    "        try:\n",
    "            review_url = sel2.css('a.title::attr(href)').extract_first()\n",
    "        except:\n",
    "            review_url = np.NaN\n",
    "        rating_list.append(rating)\n",
    "        review_date_list.append(review_date)\n",
    "        review_title_list.append(review_title)\n",
    "        author_list.append(author)\n",
    "        review_list.append(review)\n",
    "        review_url_list.append(review_url)\n",
    "    except Exception as e:\n",
    "        error_url_list.append(url)\n",
    "        error_msg_list.append(e)\n",
    "review_df = pd.DataFrame({\n",
    "    'Review_Date':review_date_list,\n",
    "    'Author':author_list,\n",
    "    'Rating':rating_list,\n",
    "    'Review_Title':review_title_list,\n",
    "    'Review':review_list,\n",
    "    'Review_Url':review_url\n",
    "    })"
   ]
  },
  {
   "cell_type": "code",
   "execution_count": 9,
   "metadata": {},
   "outputs": [
    {
     "data": {
      "text/html": [
       "<div>\n",
       "<style scoped>\n",
       "    .dataframe tbody tr th:only-of-type {\n",
       "        vertical-align: middle;\n",
       "    }\n",
       "\n",
       "    .dataframe tbody tr th {\n",
       "        vertical-align: top;\n",
       "    }\n",
       "\n",
       "    .dataframe thead th {\n",
       "        text-align: right;\n",
       "    }\n",
       "</style>\n",
       "<table border=\"1\" class=\"dataframe\">\n",
       "  <thead>\n",
       "    <tr style=\"text-align: right;\">\n",
       "      <th></th>\n",
       "      <th>Review_Date</th>\n",
       "      <th>Author</th>\n",
       "      <th>Rating</th>\n",
       "      <th>Review_Title</th>\n",
       "      <th>Review</th>\n",
       "      <th>Review_Url</th>\n",
       "    </tr>\n",
       "  </thead>\n",
       "  <tbody>\n",
       "    <tr>\n",
       "      <th>0</th>\n",
       "      <td>24 December 2017</td>\n",
       "      <td>BA_Harrison</td>\n",
       "      <td>3</td>\n",
       "      <td>I'm going to keep this short (unlike the film...</td>\n",
       "      <td>After George Lucas's execrable prequels and th...</td>\n",
       "      <td>/review/rw5308106/?ref_=tt_urv</td>\n",
       "    </tr>\n",
       "    <tr>\n",
       "      <th>1</th>\n",
       "      <td>16 December 2017</td>\n",
       "      <td>view_and_review</td>\n",
       "      <td>3</td>\n",
       "      <td>Not this Disappointed Since Jar Jar Binks\\n</td>\n",
       "      <td>I love the Star Wars franchise. I was so anxio...</td>\n",
       "      <td>/review/rw5308106/?ref_=tt_urv</td>\n",
       "    </tr>\n",
       "    <tr>\n",
       "      <th>2</th>\n",
       "      <td>21 January 2018</td>\n",
       "      <td>gogoschka-1</td>\n",
       "      <td>None</td>\n",
       "      <td>My Issues With The Storytelling in The Last J...</td>\n",
       "      <td>I didn't hate TLJ, but even if I completely ig...</td>\n",
       "      <td>/review/rw5308106/?ref_=tt_urv</td>\n",
       "    </tr>\n",
       "    <tr>\n",
       "      <th>3</th>\n",
       "      <td>19 April 2021</td>\n",
       "      <td>mn2000</td>\n",
       "      <td>1</td>\n",
       "      <td>An embarrassment for the Star Wars fans\\n</td>\n",
       "      <td>When I watch this movie, it only makes me reme...</td>\n",
       "      <td>/review/rw5308106/?ref_=tt_urv</td>\n",
       "    </tr>\n",
       "    <tr>\n",
       "      <th>4</th>\n",
       "      <td>17 December 2017</td>\n",
       "      <td>marc5477</td>\n",
       "      <td>1</td>\n",
       "      <td>What the hell was this?\\n</td>\n",
       "      <td>Wow this is getting hammered by reviews and no...</td>\n",
       "      <td>/review/rw5308106/?ref_=tt_urv</td>\n",
       "    </tr>\n",
       "    <tr>\n",
       "      <th>...</th>\n",
       "      <td>...</td>\n",
       "      <td>...</td>\n",
       "      <td>...</td>\n",
       "      <td>...</td>\n",
       "      <td>...</td>\n",
       "      <td>...</td>\n",
       "    </tr>\n",
       "    <tr>\n",
       "      <th>7081</th>\n",
       "      <td>15 January 2018</td>\n",
       "      <td>delmay</td>\n",
       "      <td>None</td>\n",
       "      <td>The music was incredible\\n</td>\n",
       "      <td>I love how the main music theme is based upon ...</td>\n",
       "      <td>/review/rw5308106/?ref_=tt_urv</td>\n",
       "    </tr>\n",
       "    <tr>\n",
       "      <th>7082</th>\n",
       "      <td>17 January 2018</td>\n",
       "      <td>harrisonjwilson</td>\n",
       "      <td>6</td>\n",
       "      <td>Lazy!\\n</td>\n",
       "      <td>Episode 8 was a very interesting movie. It was...</td>\n",
       "      <td>/review/rw5308106/?ref_=tt_urv</td>\n",
       "    </tr>\n",
       "    <tr>\n",
       "      <th>7083</th>\n",
       "      <td>17 January 2018</td>\n",
       "      <td>danielenglish</td>\n",
       "      <td>6</td>\n",
       "      <td>Bye Bye miss American Pie\\n</td>\n",
       "      <td>No spoilers, but If you haven't seen The Last ...</td>\n",
       "      <td>/review/rw5308106/?ref_=tt_urv</td>\n",
       "    </tr>\n",
       "    <tr>\n",
       "      <th>7084</th>\n",
       "      <td>7 June 2020</td>\n",
       "      <td>Luke_Gilbey</td>\n",
       "      <td>6</td>\n",
       "      <td>A Bad Good Movie\\n</td>\n",
       "      <td>I'd describe The Last Jedi as a bad good movie...</td>\n",
       "      <td>/review/rw5308106/?ref_=tt_urv</td>\n",
       "    </tr>\n",
       "    <tr>\n",
       "      <th>7085</th>\n",
       "      <td>8 December 2019</td>\n",
       "      <td>sdcope</td>\n",
       "      <td>6</td>\n",
       "      <td>A fun but uneven entry into the Star Wars fra...</td>\n",
       "      <td>The Last Jedi is a little frustrating to watch...</td>\n",
       "      <td>/review/rw5308106/?ref_=tt_urv</td>\n",
       "    </tr>\n",
       "  </tbody>\n",
       "</table>\n",
       "<p>7086 rows × 6 columns</p>\n",
       "</div>"
      ],
      "text/plain": [
       "           Review_Date           Author Rating  \\\n",
       "0     24 December 2017      BA_Harrison      3   \n",
       "1     16 December 2017  view_and_review      3   \n",
       "2      21 January 2018      gogoschka-1   None   \n",
       "3        19 April 2021           mn2000      1   \n",
       "4     17 December 2017         marc5477      1   \n",
       "...                ...              ...    ...   \n",
       "7081   15 January 2018           delmay   None   \n",
       "7082   17 January 2018  harrisonjwilson      6   \n",
       "7083   17 January 2018    danielenglish      6   \n",
       "7084       7 June 2020      Luke_Gilbey      6   \n",
       "7085   8 December 2019           sdcope      6   \n",
       "\n",
       "                                           Review_Title  \\\n",
       "0      I'm going to keep this short (unlike the film...   \n",
       "1           Not this Disappointed Since Jar Jar Binks\\n   \n",
       "2      My Issues With The Storytelling in The Last J...   \n",
       "3             An embarrassment for the Star Wars fans\\n   \n",
       "4                             What the hell was this?\\n   \n",
       "...                                                 ...   \n",
       "7081                         The music was incredible\\n   \n",
       "7082                                            Lazy!\\n   \n",
       "7083                        Bye Bye miss American Pie\\n   \n",
       "7084                                 A Bad Good Movie\\n   \n",
       "7085   A fun but uneven entry into the Star Wars fra...   \n",
       "\n",
       "                                                 Review  \\\n",
       "0     After George Lucas's execrable prequels and th...   \n",
       "1     I love the Star Wars franchise. I was so anxio...   \n",
       "2     I didn't hate TLJ, but even if I completely ig...   \n",
       "3     When I watch this movie, it only makes me reme...   \n",
       "4     Wow this is getting hammered by reviews and no...   \n",
       "...                                                 ...   \n",
       "7081  I love how the main music theme is based upon ...   \n",
       "7082  Episode 8 was a very interesting movie. It was...   \n",
       "7083  No spoilers, but If you haven't seen The Last ...   \n",
       "7084  I'd describe The Last Jedi as a bad good movie...   \n",
       "7085  The Last Jedi is a little frustrating to watch...   \n",
       "\n",
       "                          Review_Url  \n",
       "0     /review/rw5308106/?ref_=tt_urv  \n",
       "1     /review/rw5308106/?ref_=tt_urv  \n",
       "2     /review/rw5308106/?ref_=tt_urv  \n",
       "3     /review/rw5308106/?ref_=tt_urv  \n",
       "4     /review/rw5308106/?ref_=tt_urv  \n",
       "...                              ...  \n",
       "7081  /review/rw5308106/?ref_=tt_urv  \n",
       "7082  /review/rw5308106/?ref_=tt_urv  \n",
       "7083  /review/rw5308106/?ref_=tt_urv  \n",
       "7084  /review/rw5308106/?ref_=tt_urv  \n",
       "7085  /review/rw5308106/?ref_=tt_urv  \n",
       "\n",
       "[7086 rows x 6 columns]"
      ]
     },
     "execution_count": 9,
     "metadata": {},
     "output_type": "execute_result"
    }
   ],
   "source": [
    "review_df"
   ]
  },
  {
   "cell_type": "code",
   "execution_count": 10,
   "metadata": {},
   "outputs": [],
   "source": [
    "#7090 reviews"
   ]
  },
  {
   "cell_type": "code",
   "execution_count": 13,
   "metadata": {},
   "outputs": [],
   "source": [
    "#review_df.to_csv(r'D:\\UMD Master Year 2 College Work\\Fall 2022-2023\\INST737-IM01\\INST737_Star_Wars_IMDB_StarWars8.csv')"
   ]
  },
  {
   "cell_type": "code",
   "execution_count": null,
   "metadata": {},
   "outputs": [],
   "source": []
  }
 ],
 "metadata": {
  "colab": {
   "provenance": []
  },
  "kernelspec": {
   "display_name": "Python 3",
   "language": "python",
   "name": "python3"
  },
  "language_info": {
   "codemirror_mode": {
    "name": "ipython",
    "version": 3
   },
   "file_extension": ".py",
   "mimetype": "text/x-python",
   "name": "python",
   "nbconvert_exporter": "python",
   "pygments_lexer": "ipython3",
   "version": "3.8.5"
  }
 },
 "nbformat": 4,
 "nbformat_minor": 1
}
