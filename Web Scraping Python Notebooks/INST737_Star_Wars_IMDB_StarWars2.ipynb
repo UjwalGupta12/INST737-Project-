{
 "cells": [
  {
   "cell_type": "code",
   "execution_count": 1,
   "metadata": {
    "colab": {
     "base_uri": "https://localhost:8080/"
    },
    "id": "GLbm4wsfDtdH",
    "outputId": "2aa6e65a-bd76-4d72-f935-f0e715bf87e5"
   },
   "outputs": [],
   "source": [
    "#!pip install selenium\n",
    "#!pip install scrapy"
   ]
  },
  {
   "cell_type": "code",
   "execution_count": 2,
   "metadata": {
    "id": "cR0zU3aeD6Fd"
   },
   "outputs": [],
   "source": [
    "import numpy as np\n",
    "import pandas as pd\n",
    "from scrapy.selector import Selector\n",
    "from selenium import webdriver \n",
    "from selenium.webdriver.common.by import By\n",
    "from selenium.webdriver.common.keys import Keys\n",
    "import time\n",
    "from tqdm import tqdm\n",
    "import warnings\n",
    "warnings.filterwarnings(\"ignore\")\n",
    "import random"
   ]
  },
  {
   "cell_type": "code",
   "execution_count": 3,
   "metadata": {
    "colab": {
     "base_uri": "https://localhost:8080/",
     "height": 432
    },
    "id": "kWmMr7h6D6Jr",
    "outputId": "a9db3d96-6727-40c1-b18d-173cbf58a2dc"
   },
   "outputs": [
    {
     "name": "stdout",
     "output_type": "stream",
     "text": [
      "Star Wars: Episode II - Attack of the Clones (2002) - Star Wars: Episode II - Attack of the Clones (2002) - User Reviews - IMDb\n"
     ]
    }
   ],
   "source": [
    "driver = webdriver.Chrome(r'D:\\UMD Master Year 2 College Work\\Fall 2022-2023\\INST737-IM01\\chromedriver')\n",
    "url = 'https://www.imdb.com/title/tt0121765/reviews?ref_=tt_ov_rt'\n",
    "randomNumber = random.randint(0,4)\n",
    "time.sleep(1)\n",
    "driver.get(url)\n",
    "time.sleep(1)\n",
    "print(driver.title)\n",
    "time.sleep(1)\n",
    "body = driver.find_element(By.CSS_SELECTOR, 'body')\n",
    "body.send_keys(Keys.END)\n",
    "time.sleep(randomNumber)\n",
    "# body.send_keys(Keys.PAGE_DOWN)\n",
    "# time.sleep(1)\n",
    "# body.send_keys(Keys.PAGE_DOWN)\n",
    "# time.sleep(1)\n",
    "# body.send_keys(Keys.PAGE_DOWN)"
   ]
  },
  {
   "cell_type": "code",
   "execution_count": 4,
   "metadata": {
    "id": "p9Fncx9yD6Se"
   },
   "outputs": [],
   "source": [
    "sel = Selector(text = driver.page_source)\n",
    "review_counts = sel.css('.lister .header span::text').extract_first().replace(',','').split(' ')[0]\n",
    "more_review_pages = int(int(review_counts)/25)"
   ]
  },
  {
   "cell_type": "code",
   "execution_count": 5,
   "metadata": {
    "id": "-l5GCsPeD6YD"
   },
   "outputs": [
    {
     "name": "stderr",
     "output_type": "stream",
     "text": [
      "100%|██████████| 152/152 [08:20<00:00,  3.29s/it]\n"
     ]
    }
   ],
   "source": [
    "for i in tqdm(range(more_review_pages)):\n",
    "    try:\n",
    "        css_selector = 'load-more-trigger'\n",
    "        driver.find_element(By.ID, css_selector).click()\n",
    "        body.send_keys(Keys.END)\n",
    "        time.sleep(randomNumber)\n",
    "    except:\n",
    "        pass"
   ]
  },
  {
   "cell_type": "code",
   "execution_count": 6,
   "metadata": {},
   "outputs": [],
   "source": [
    "reviews = driver.find_elements(By.CSS_SELECTOR, 'div.review-container')\n",
    "first_review = reviews[0]\n",
    "sel2 = Selector(text = first_review.get_attribute('innerHTML'))\n",
    "rating = sel2.css('.rating-other-user-rating span::text').extract_first().strip()"
   ]
  },
  {
   "cell_type": "code",
   "execution_count": 7,
   "metadata": {},
   "outputs": [
    {
     "name": "stdout",
     "output_type": "stream",
     "text": [
      "nRating: 7\n",
      "nreview_title: Great scale, action and mystery squares off with bad romance and dialogue\n",
      "nAuthor: Movie_Muse_Reviews\n",
      "nreview_date: 11 December 2015\n",
      "nreview: And now, the Darth Vader origin story really begins. In fact, \"Star Wars Episode II: Attack of the Clones\" sort of renders its predecessor useless. \"Episode I\" feels like a mostly unnecessary part of the story now that \"Episode II\" gives a better glimpse into the troubled young man Anakin Skywalker – the future Darth Vader – has become.\n"
     ]
    }
   ],
   "source": [
    "review = sel2.css('.text.show-more__control::text').extract_first().strip()\n",
    "review_date = sel2.css('.review-date::text').extract_first().strip()\n",
    "author = sel2.css('.display-name-link a::text').extract_first().strip()\n",
    "review_title = sel2.css('a.title::text').extract_first().strip()\n",
    "review_url = sel2.css('a.title::attr(href)').extract_first().strip()\n",
    "#helpfulness = sel2.css('.actions.text-muted::text').extract_first().strip()\n",
    "print('nRating:',rating)\n",
    "print('nreview_title:',review_title)\n",
    "print('nAuthor:',author)\n",
    "print('nreview_date:',review_date)\n",
    "print('nreview:',review)\n",
    "#print('nhelpfulness:',helpfulness)"
   ]
  },
  {
   "cell_type": "code",
   "execution_count": 8,
   "metadata": {},
   "outputs": [
    {
     "name": "stderr",
     "output_type": "stream",
     "text": [
      "100%|██████████| 3798/3798 [03:59<00:00, 15.85it/s]\n"
     ]
    }
   ],
   "source": [
    "rating_list = []\n",
    "review_date_list = []\n",
    "review_title_list = []\n",
    "author_list = []\n",
    "review_list = []\n",
    "review_url_list = []\n",
    "error_url_list = []\n",
    "error_msg_list = []\n",
    "reviews = driver.find_elements(By.CSS_SELECTOR, 'div.review-container')\n",
    "\n",
    "for d in tqdm(reviews):\n",
    "    try:\n",
    "        sel2 = Selector(text = d.get_attribute('innerHTML'))\n",
    "        try:\n",
    "            rating = sel2.css('.rating-other-user-rating span::text').extract_first()\n",
    "        except:\n",
    "            rating = np.NaN\n",
    "        try:\n",
    "            review = sel2.css('.text.show-more__control::text').extract_first()\n",
    "        except:\n",
    "            review = np.NaN\n",
    "        try:\n",
    "            review_date = sel2.css('.review-date::text').extract_first()\n",
    "        except:\n",
    "            review_date = np.NaN    \n",
    "        try:\n",
    "            author = sel2.css('.display-name-link a::text').extract_first()\n",
    "        except:\n",
    "            author = np.NaN    \n",
    "        try:\n",
    "            review_title = sel2.css('a.title::text').extract_first()\n",
    "        except:\n",
    "            review_title = np.NaN\n",
    "        try:\n",
    "            review_url = sel2.css('a.title::attr(href)').extract_first()\n",
    "        except:\n",
    "            review_url = np.NaN\n",
    "        rating_list.append(rating)\n",
    "        review_date_list.append(review_date)\n",
    "        review_title_list.append(review_title)\n",
    "        author_list.append(author)\n",
    "        review_list.append(review)\n",
    "        review_url_list.append(review_url)\n",
    "    except Exception as e:\n",
    "        error_url_list.append(url)\n",
    "        error_msg_list.append(e)\n",
    "review_df = pd.DataFrame({\n",
    "    'Review_Date':review_date_list,\n",
    "    'Author':author_list,\n",
    "    'Rating':rating_list,\n",
    "    'Review_Title':review_title_list,\n",
    "    'Review':review_list,\n",
    "    'Review_Url':review_url\n",
    "    })"
   ]
  },
  {
   "cell_type": "code",
   "execution_count": 9,
   "metadata": {},
   "outputs": [
    {
     "data": {
      "text/html": [
       "<div>\n",
       "<style scoped>\n",
       "    .dataframe tbody tr th:only-of-type {\n",
       "        vertical-align: middle;\n",
       "    }\n",
       "\n",
       "    .dataframe tbody tr th {\n",
       "        vertical-align: top;\n",
       "    }\n",
       "\n",
       "    .dataframe thead th {\n",
       "        text-align: right;\n",
       "    }\n",
       "</style>\n",
       "<table border=\"1\" class=\"dataframe\">\n",
       "  <thead>\n",
       "    <tr style=\"text-align: right;\">\n",
       "      <th></th>\n",
       "      <th>Review_Date</th>\n",
       "      <th>Author</th>\n",
       "      <th>Rating</th>\n",
       "      <th>Review_Title</th>\n",
       "      <th>Review</th>\n",
       "      <th>Review_Url</th>\n",
       "    </tr>\n",
       "  </thead>\n",
       "  <tbody>\n",
       "    <tr>\n",
       "      <th>0</th>\n",
       "      <td>11 December 2015</td>\n",
       "      <td>Movie_Muse_Reviews</td>\n",
       "      <td>7</td>\n",
       "      <td>Great scale, action and mystery squares off w...</td>\n",
       "      <td>And now, the Darth Vader origin story really b...</td>\n",
       "      <td>/review/rw4019444/?ref_=tt_urv</td>\n",
       "    </tr>\n",
       "    <tr>\n",
       "      <th>1</th>\n",
       "      <td>2 December 2015</td>\n",
       "      <td>jaredpahl</td>\n",
       "      <td>9</td>\n",
       "      <td>Underrated Star Wars Adventure, Full of Intri...</td>\n",
       "      <td>Much like its predecessor, Star Wars - Episode...</td>\n",
       "      <td>/review/rw4019444/?ref_=tt_urv</td>\n",
       "    </tr>\n",
       "    <tr>\n",
       "      <th>2</th>\n",
       "      <td>25 April 2022</td>\n",
       "      <td>poseyfan</td>\n",
       "      <td>9</td>\n",
       "      <td>The most underrated Star Wars movie\\n</td>\n",
       "      <td>Let me start off by saying that i don't enjoy ...</td>\n",
       "      <td>/review/rw4019444/?ref_=tt_urv</td>\n",
       "    </tr>\n",
       "    <tr>\n",
       "      <th>3</th>\n",
       "      <td>16 April 2022</td>\n",
       "      <td>D4V1D2411</td>\n",
       "      <td>5</td>\n",
       "      <td>The finale saves the film\\n</td>\n",
       "      <td>I found most of the film to be boring, the int...</td>\n",
       "      <td>/review/rw4019444/?ref_=tt_urv</td>\n",
       "    </tr>\n",
       "    <tr>\n",
       "      <th>4</th>\n",
       "      <td>6 April 2021</td>\n",
       "      <td>aheaven2005</td>\n",
       "      <td>9</td>\n",
       "      <td>One of the best Star Wars movies\\n</td>\n",
       "      <td>So many great moments in this one. Epic battle...</td>\n",
       "      <td>/review/rw4019444/?ref_=tt_urv</td>\n",
       "    </tr>\n",
       "    <tr>\n",
       "      <th>...</th>\n",
       "      <td>...</td>\n",
       "      <td>...</td>\n",
       "      <td>...</td>\n",
       "      <td>...</td>\n",
       "      <td>...</td>\n",
       "      <td>...</td>\n",
       "    </tr>\n",
       "    <tr>\n",
       "      <th>3793</th>\n",
       "      <td>1 January 2016</td>\n",
       "      <td>mitaldo</td>\n",
       "      <td>5</td>\n",
       "      <td>Kinda OK.\\n</td>\n",
       "      <td>This movie is an improvement over The Phantom ...</td>\n",
       "      <td>/review/rw4019444/?ref_=tt_urv</td>\n",
       "    </tr>\n",
       "    <tr>\n",
       "      <th>3794</th>\n",
       "      <td>24 September 2005</td>\n",
       "      <td>suphan</td>\n",
       "      <td>None</td>\n",
       "      <td>I thought there cannot be anything worse afte...</td>\n",
       "      <td>Hayden Christiansen or whatever his name is - ...</td>\n",
       "      <td>/review/rw4019444/?ref_=tt_urv</td>\n",
       "    </tr>\n",
       "    <tr>\n",
       "      <th>3795</th>\n",
       "      <td>5 May 2020</td>\n",
       "      <td>sknowles-22066</td>\n",
       "      <td>5</td>\n",
       "      <td>Attack of the Drones\\n</td>\n",
       "      <td>I fell out of love with the prequels a long ti...</td>\n",
       "      <td>/review/rw4019444/?ref_=tt_urv</td>\n",
       "    </tr>\n",
       "    <tr>\n",
       "      <th>3796</th>\n",
       "      <td>18 December 2018</td>\n",
       "      <td>jaksadler-29020</td>\n",
       "      <td>4</td>\n",
       "      <td>Worst Star Wars there's been\\n</td>\n",
       "      <td>CGI awful.\\nActing awful.\\nDialogue awful.\\nSt...</td>\n",
       "      <td>/review/rw4019444/?ref_=tt_urv</td>\n",
       "    </tr>\n",
       "    <tr>\n",
       "      <th>3797</th>\n",
       "      <td>31 December 2017</td>\n",
       "      <td>sanekgurushev</td>\n",
       "      <td>7</td>\n",
       "      <td>The worst film in saga that i've ever seen...\\n</td>\n",
       "      <td>First, it was 90 minutes of dialogues and talk...</td>\n",
       "      <td>/review/rw4019444/?ref_=tt_urv</td>\n",
       "    </tr>\n",
       "  </tbody>\n",
       "</table>\n",
       "<p>3798 rows × 6 columns</p>\n",
       "</div>"
      ],
      "text/plain": [
       "            Review_Date              Author Rating  \\\n",
       "0      11 December 2015  Movie_Muse_Reviews      7   \n",
       "1       2 December 2015           jaredpahl      9   \n",
       "2         25 April 2022            poseyfan      9   \n",
       "3         16 April 2022           D4V1D2411      5   \n",
       "4          6 April 2021         aheaven2005      9   \n",
       "...                 ...                 ...    ...   \n",
       "3793     1 January 2016             mitaldo      5   \n",
       "3794  24 September 2005              suphan   None   \n",
       "3795         5 May 2020      sknowles-22066      5   \n",
       "3796   18 December 2018     jaksadler-29020      4   \n",
       "3797   31 December 2017       sanekgurushev      7   \n",
       "\n",
       "                                           Review_Title  \\\n",
       "0      Great scale, action and mystery squares off w...   \n",
       "1      Underrated Star Wars Adventure, Full of Intri...   \n",
       "2                 The most underrated Star Wars movie\\n   \n",
       "3                           The finale saves the film\\n   \n",
       "4                    One of the best Star Wars movies\\n   \n",
       "...                                                 ...   \n",
       "3793                                        Kinda OK.\\n   \n",
       "3794   I thought there cannot be anything worse afte...   \n",
       "3795                             Attack of the Drones\\n   \n",
       "3796                     Worst Star Wars there's been\\n   \n",
       "3797    The worst film in saga that i've ever seen...\\n   \n",
       "\n",
       "                                                 Review  \\\n",
       "0     And now, the Darth Vader origin story really b...   \n",
       "1     Much like its predecessor, Star Wars - Episode...   \n",
       "2     Let me start off by saying that i don't enjoy ...   \n",
       "3     I found most of the film to be boring, the int...   \n",
       "4     So many great moments in this one. Epic battle...   \n",
       "...                                                 ...   \n",
       "3793  This movie is an improvement over The Phantom ...   \n",
       "3794  Hayden Christiansen or whatever his name is - ...   \n",
       "3795  I fell out of love with the prequels a long ti...   \n",
       "3796  CGI awful.\\nActing awful.\\nDialogue awful.\\nSt...   \n",
       "3797  First, it was 90 minutes of dialogues and talk...   \n",
       "\n",
       "                          Review_Url  \n",
       "0     /review/rw4019444/?ref_=tt_urv  \n",
       "1     /review/rw4019444/?ref_=tt_urv  \n",
       "2     /review/rw4019444/?ref_=tt_urv  \n",
       "3     /review/rw4019444/?ref_=tt_urv  \n",
       "4     /review/rw4019444/?ref_=tt_urv  \n",
       "...                              ...  \n",
       "3793  /review/rw4019444/?ref_=tt_urv  \n",
       "3794  /review/rw4019444/?ref_=tt_urv  \n",
       "3795  /review/rw4019444/?ref_=tt_urv  \n",
       "3796  /review/rw4019444/?ref_=tt_urv  \n",
       "3797  /review/rw4019444/?ref_=tt_urv  \n",
       "\n",
       "[3798 rows x 6 columns]"
      ]
     },
     "execution_count": 9,
     "metadata": {},
     "output_type": "execute_result"
    }
   ],
   "source": [
    "review_df"
   ]
  },
  {
   "cell_type": "code",
   "execution_count": 10,
   "metadata": {},
   "outputs": [],
   "source": [
    "#3813 reviews"
   ]
  },
  {
   "cell_type": "code",
   "execution_count": 13,
   "metadata": {},
   "outputs": [],
   "source": [
    "#review_df.to_csv(r'D:\\UMD Master Year 2 College Work\\Fall 2022-2023\\INST737-IM01\\INST737_Star_Wars_IMDB_StarWars2.csv')"
   ]
  },
  {
   "cell_type": "code",
   "execution_count": null,
   "metadata": {},
   "outputs": [],
   "source": []
  }
 ],
 "metadata": {
  "colab": {
   "provenance": []
  },
  "kernelspec": {
   "display_name": "Python 3",
   "language": "python",
   "name": "python3"
  },
  "language_info": {
   "codemirror_mode": {
    "name": "ipython",
    "version": 3
   },
   "file_extension": ".py",
   "mimetype": "text/x-python",
   "name": "python",
   "nbconvert_exporter": "python",
   "pygments_lexer": "ipython3",
   "version": "3.8.5"
  }
 },
 "nbformat": 4,
 "nbformat_minor": 1
}
