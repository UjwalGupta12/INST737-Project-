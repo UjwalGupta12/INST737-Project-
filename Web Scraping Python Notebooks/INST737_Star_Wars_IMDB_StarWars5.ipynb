{
 "cells": [
  {
   "cell_type": "code",
   "execution_count": 1,
   "metadata": {
    "colab": {
     "base_uri": "https://localhost:8080/"
    },
    "id": "GLbm4wsfDtdH",
    "outputId": "2aa6e65a-bd76-4d72-f935-f0e715bf87e5"
   },
   "outputs": [],
   "source": [
    "#!pip install selenium\n",
    "#!pip install scrapy"
   ]
  },
  {
   "cell_type": "code",
   "execution_count": 2,
   "metadata": {
    "id": "cR0zU3aeD6Fd"
   },
   "outputs": [],
   "source": [
    "import numpy as np\n",
    "import pandas as pd\n",
    "from scrapy.selector import Selector\n",
    "from selenium import webdriver \n",
    "from selenium.webdriver.common.by import By\n",
    "from selenium.webdriver.common.keys import Keys\n",
    "import time\n",
    "from tqdm import tqdm\n",
    "import warnings\n",
    "warnings.filterwarnings(\"ignore\")\n",
    "import random"
   ]
  },
  {
   "cell_type": "code",
   "execution_count": 3,
   "metadata": {
    "colab": {
     "base_uri": "https://localhost:8080/",
     "height": 432
    },
    "id": "kWmMr7h6D6Jr",
    "outputId": "a9db3d96-6727-40c1-b18d-173cbf58a2dc"
   },
   "outputs": [
    {
     "name": "stdout",
     "output_type": "stream",
     "text": [
      "Star Wars: Episode V - The Empire Strikes Back (1980) - Star Wars: Episode V - The Empire Strikes Back (1980) - User Reviews - IMDb\n"
     ]
    }
   ],
   "source": [
    "driver = webdriver.Chrome(r'D:\\UMD Master Year 2 College Work\\Fall 2022-2023\\INST737-IM01\\chromedriver')\n",
    "url = 'https://www.imdb.com/title/tt0080684/reviews?ref_=tt_ov_rt'\n",
    "randomNumber = random.randint(0,4)\n",
    "time.sleep(1)\n",
    "driver.get(url)\n",
    "time.sleep(1)\n",
    "print(driver.title)\n",
    "time.sleep(1)\n",
    "body = driver.find_element(By.CSS_SELECTOR, 'body')\n",
    "body.send_keys(Keys.END)\n",
    "time.sleep(randomNumber)\n",
    "# body.send_keys(Keys.PAGE_DOWN)\n",
    "# time.sleep(1)\n",
    "# body.send_keys(Keys.PAGE_DOWN)\n",
    "# time.sleep(1)\n",
    "# body.send_keys(Keys.PAGE_DOWN)"
   ]
  },
  {
   "cell_type": "code",
   "execution_count": 4,
   "metadata": {
    "id": "p9Fncx9yD6Se"
   },
   "outputs": [],
   "source": [
    "sel = Selector(text = driver.page_source)\n",
    "review_counts = sel.css('.lister .header span::text').extract_first().replace(',','').split(' ')[0]\n",
    "more_review_pages = int(int(review_counts)/25)"
   ]
  },
  {
   "cell_type": "code",
   "execution_count": 5,
   "metadata": {
    "id": "-l5GCsPeD6YD"
   },
   "outputs": [
    {
     "name": "stderr",
     "output_type": "stream",
     "text": [
      "100%|██████████| 56/56 [04:04<00:00,  4.36s/it]\n"
     ]
    }
   ],
   "source": [
    "for i in tqdm(range(more_review_pages)):\n",
    "    try:\n",
    "        css_selector = 'load-more-trigger'\n",
    "        driver.find_element(By.ID, css_selector).click()\n",
    "        body.send_keys(Keys.END)\n",
    "        time.sleep(randomNumber)\n",
    "    except:\n",
    "        pass"
   ]
  },
  {
   "cell_type": "code",
   "execution_count": 6,
   "metadata": {},
   "outputs": [],
   "source": [
    "reviews = driver.find_elements(By.CSS_SELECTOR, 'div.review-container')\n",
    "first_review = reviews[0]\n",
    "sel2 = Selector(text = first_review.get_attribute('innerHTML'))\n",
    "rating = sel2.css('.rating-other-user-rating span::text').extract_first().strip()"
   ]
  },
  {
   "cell_type": "code",
   "execution_count": 7,
   "metadata": {},
   "outputs": [
    {
     "name": "stdout",
     "output_type": "stream",
     "text": [
      "nRating: 10\n",
      "nreview_title: Excellent timeless classic, the best sequel of all time!\n",
      "nAuthor: ivo-cobra8\n",
      "nreview_date: 25 April 2016\n",
      "nreview: Star Wars: Episode V - The Empire Strikes Back (1980) is an excellent timeless classic that it is the best sequel of all time. I love this film to death, it is my second favorite film and the best sequel in the Star Wars franchise that I love. The Empire Strikes Back is a movie that it is one of the best sequels I can think of, it is right there with Aliens (1986), it is right there with Terminator 2: Judgment Day (1991) it is an excellent sequel and it really does establish The Empire as a value treat. Empire Strikes Back is still and excellent film which I really believe is a timeless classic. This is my second favorite film from director Irvin Kershner. Number 1 favorite Irvin Kershner film will be RoboCop 2 (1990) which is very underrated action flick. I still have to review those movies someday.\n"
     ]
    }
   ],
   "source": [
    "review = sel2.css('.text.show-more__control::text').extract_first().strip()\n",
    "review_date = sel2.css('.review-date::text').extract_first().strip()\n",
    "author = sel2.css('.display-name-link a::text').extract_first().strip()\n",
    "review_title = sel2.css('a.title::text').extract_first().strip()\n",
    "review_url = sel2.css('a.title::attr(href)').extract_first().strip()\n",
    "#helpfulness = sel2.css('.actions.text-muted::text').extract_first().strip()\n",
    "print('nRating:',rating)\n",
    "print('nreview_title:',review_title)\n",
    "print('nAuthor:',author)\n",
    "print('nreview_date:',review_date)\n",
    "print('nreview:',review)\n",
    "#print('nhelpfulness:',helpfulness)"
   ]
  },
  {
   "cell_type": "code",
   "execution_count": 8,
   "metadata": {},
   "outputs": [
    {
     "name": "stderr",
     "output_type": "stream",
     "text": [
      "100%|██████████| 1409/1409 [00:55<00:00, 25.17it/s]\n"
     ]
    }
   ],
   "source": [
    "rating_list = []\n",
    "review_date_list = []\n",
    "review_title_list = []\n",
    "author_list = []\n",
    "review_list = []\n",
    "review_url_list = []\n",
    "error_url_list = []\n",
    "error_msg_list = []\n",
    "reviews = driver.find_elements(By.CSS_SELECTOR, 'div.review-container')\n",
    "\n",
    "for d in tqdm(reviews):\n",
    "    try:\n",
    "        sel2 = Selector(text = d.get_attribute('innerHTML'))\n",
    "        try:\n",
    "            rating = sel2.css('.rating-other-user-rating span::text').extract_first()\n",
    "        except:\n",
    "            rating = np.NaN\n",
    "        try:\n",
    "            review = sel2.css('.text.show-more__control::text').extract_first()\n",
    "        except:\n",
    "            review = np.NaN\n",
    "        try:\n",
    "            review_date = sel2.css('.review-date::text').extract_first()\n",
    "        except:\n",
    "            review_date = np.NaN    \n",
    "        try:\n",
    "            author = sel2.css('.display-name-link a::text').extract_first()\n",
    "        except:\n",
    "            author = np.NaN    \n",
    "        try:\n",
    "            review_title = sel2.css('a.title::text').extract_first()\n",
    "        except:\n",
    "            review_title = np.NaN\n",
    "        try:\n",
    "            review_url = sel2.css('a.title::attr(href)').extract_first()\n",
    "        except:\n",
    "            review_url = np.NaN\n",
    "        rating_list.append(rating)\n",
    "        review_date_list.append(review_date)\n",
    "        review_title_list.append(review_title)\n",
    "        author_list.append(author)\n",
    "        review_list.append(review)\n",
    "        review_url_list.append(review_url)\n",
    "    except Exception as e:\n",
    "        error_url_list.append(url)\n",
    "        error_msg_list.append(e)\n",
    "review_df = pd.DataFrame({\n",
    "    'Review_Date':review_date_list,\n",
    "    'Author':author_list,\n",
    "    'Rating':rating_list,\n",
    "    'Review_Title':review_title_list,\n",
    "    'Review':review_list,\n",
    "    'Review_Url':review_url\n",
    "    })"
   ]
  },
  {
   "cell_type": "code",
   "execution_count": 9,
   "metadata": {},
   "outputs": [
    {
     "data": {
      "text/html": [
       "<div>\n",
       "<style scoped>\n",
       "    .dataframe tbody tr th:only-of-type {\n",
       "        vertical-align: middle;\n",
       "    }\n",
       "\n",
       "    .dataframe tbody tr th {\n",
       "        vertical-align: top;\n",
       "    }\n",
       "\n",
       "    .dataframe thead th {\n",
       "        text-align: right;\n",
       "    }\n",
       "</style>\n",
       "<table border=\"1\" class=\"dataframe\">\n",
       "  <thead>\n",
       "    <tr style=\"text-align: right;\">\n",
       "      <th></th>\n",
       "      <th>Review_Date</th>\n",
       "      <th>Author</th>\n",
       "      <th>Rating</th>\n",
       "      <th>Review_Title</th>\n",
       "      <th>Review</th>\n",
       "      <th>Review_Url</th>\n",
       "    </tr>\n",
       "  </thead>\n",
       "  <tbody>\n",
       "    <tr>\n",
       "      <th>0</th>\n",
       "      <td>25 April 2016</td>\n",
       "      <td>ivo-cobra8</td>\n",
       "      <td>10</td>\n",
       "      <td>Excellent timeless classic, the best sequel o...</td>\n",
       "      <td>Star Wars: Episode V - The Empire Strikes Back...</td>\n",
       "      <td>/review/rw4592819/?ref_=tt_urv</td>\n",
       "    </tr>\n",
       "    <tr>\n",
       "      <th>1</th>\n",
       "      <td>27 June 2002</td>\n",
       "      <td>bob the moo</td>\n",
       "      <td>None</td>\n",
       "      <td>All the fun of the original with a much bette...</td>\n",
       "      <td>The Rebellion has struck an important blow to ...</td>\n",
       "      <td>/review/rw4592819/?ref_=tt_urv</td>\n",
       "    </tr>\n",
       "    <tr>\n",
       "      <th>2</th>\n",
       "      <td>7 October 2004</td>\n",
       "      <td>TxMike</td>\n",
       "      <td>None</td>\n",
       "      <td>A worthy second (or 5th??) Star Wars installm...</td>\n",
       "      <td>My five children were all pre-teens when 'The ...</td>\n",
       "      <td>/review/rw4592819/?ref_=tt_urv</td>\n",
       "    </tr>\n",
       "    <tr>\n",
       "      <th>3</th>\n",
       "      <td>26 October 1999</td>\n",
       "      <td>Spleen</td>\n",
       "      <td>10</td>\n",
       "      <td>It's NOT the darkest of the trilogy - it's th...</td>\n",
       "      <td>`It avoids having the standard shoot-'em-up en...</td>\n",
       "      <td>/review/rw4592819/?ref_=tt_urv</td>\n",
       "    </tr>\n",
       "    <tr>\n",
       "      <th>4</th>\n",
       "      <td>16 January 2020</td>\n",
       "      <td>UniqueParticle</td>\n",
       "      <td>10</td>\n",
       "      <td>I enjoy this one more than A New Hope\\n</td>\n",
       "      <td>So much amazing action and beautiful cinematog...</td>\n",
       "      <td>/review/rw4592819/?ref_=tt_urv</td>\n",
       "    </tr>\n",
       "    <tr>\n",
       "      <th>...</th>\n",
       "      <td>...</td>\n",
       "      <td>...</td>\n",
       "      <td>...</td>\n",
       "      <td>...</td>\n",
       "      <td>...</td>\n",
       "      <td>...</td>\n",
       "    </tr>\n",
       "    <tr>\n",
       "      <th>1404</th>\n",
       "      <td>22 July 2018</td>\n",
       "      <td>mrxherlie</td>\n",
       "      <td>10</td>\n",
       "      <td>Such a Great movie\\n</td>\n",
       "      <td>This is the one of best movie I have ever seen...</td>\n",
       "      <td>/review/rw4592819/?ref_=tt_urv</td>\n",
       "    </tr>\n",
       "    <tr>\n",
       "      <th>1405</th>\n",
       "      <td>13 September 2018</td>\n",
       "      <td>zainjauhari</td>\n",
       "      <td>8</td>\n",
       "      <td>GOOD Movie\\n</td>\n",
       "      <td>GOOD ACTION AND MOVIE...... THIS MOVIE WORTH T...</td>\n",
       "      <td>/review/rw4592819/?ref_=tt_urv</td>\n",
       "    </tr>\n",
       "    <tr>\n",
       "      <th>1406</th>\n",
       "      <td>1 June 2021</td>\n",
       "      <td>sudhirbaliga</td>\n",
       "      <td>7</td>\n",
       "      <td>Classic movie\\n</td>\n",
       "      <td>Indeed a timeless classic the pioneeri in scie...</td>\n",
       "      <td>/review/rw4592819/?ref_=tt_urv</td>\n",
       "    </tr>\n",
       "    <tr>\n",
       "      <th>1407</th>\n",
       "      <td>18 January 2019</td>\n",
       "      <td>ChrisJaggars</td>\n",
       "      <td>10</td>\n",
       "      <td>Still one of the best Star Wars movies to dat...</td>\n",
       "      <td>This still has to be my favorite Star Wars mov...</td>\n",
       "      <td>/review/rw4592819/?ref_=tt_urv</td>\n",
       "    </tr>\n",
       "    <tr>\n",
       "      <th>1408</th>\n",
       "      <td>19 January 2019</td>\n",
       "      <td>michaelportanoba</td>\n",
       "      <td>5</td>\n",
       "      <td>Awesome Movie!\\n</td>\n",
       "      <td>I could watch it over and over again. I even n...</td>\n",
       "      <td>/review/rw4592819/?ref_=tt_urv</td>\n",
       "    </tr>\n",
       "  </tbody>\n",
       "</table>\n",
       "<p>1409 rows × 6 columns</p>\n",
       "</div>"
      ],
      "text/plain": [
       "            Review_Date            Author Rating  \\\n",
       "0         25 April 2016        ivo-cobra8     10   \n",
       "1          27 June 2002       bob the moo   None   \n",
       "2        7 October 2004            TxMike   None   \n",
       "3       26 October 1999            Spleen     10   \n",
       "4       16 January 2020    UniqueParticle     10   \n",
       "...                 ...               ...    ...   \n",
       "1404       22 July 2018         mrxherlie     10   \n",
       "1405  13 September 2018       zainjauhari      8   \n",
       "1406        1 June 2021      sudhirbaliga      7   \n",
       "1407    18 January 2019      ChrisJaggars     10   \n",
       "1408    19 January 2019  michaelportanoba      5   \n",
       "\n",
       "                                           Review_Title  \\\n",
       "0      Excellent timeless classic, the best sequel o...   \n",
       "1      All the fun of the original with a much bette...   \n",
       "2      A worthy second (or 5th??) Star Wars installm...   \n",
       "3      It's NOT the darkest of the trilogy - it's th...   \n",
       "4               I enjoy this one more than A New Hope\\n   \n",
       "...                                                 ...   \n",
       "1404                               Such a Great movie\\n   \n",
       "1405                                       GOOD Movie\\n   \n",
       "1406                                    Classic movie\\n   \n",
       "1407   Still one of the best Star Wars movies to dat...   \n",
       "1408                                   Awesome Movie!\\n   \n",
       "\n",
       "                                                 Review  \\\n",
       "0     Star Wars: Episode V - The Empire Strikes Back...   \n",
       "1     The Rebellion has struck an important blow to ...   \n",
       "2     My five children were all pre-teens when 'The ...   \n",
       "3     `It avoids having the standard shoot-'em-up en...   \n",
       "4     So much amazing action and beautiful cinematog...   \n",
       "...                                                 ...   \n",
       "1404  This is the one of best movie I have ever seen...   \n",
       "1405  GOOD ACTION AND MOVIE...... THIS MOVIE WORTH T...   \n",
       "1406  Indeed a timeless classic the pioneeri in scie...   \n",
       "1407  This still has to be my favorite Star Wars mov...   \n",
       "1408  I could watch it over and over again. I even n...   \n",
       "\n",
       "                          Review_Url  \n",
       "0     /review/rw4592819/?ref_=tt_urv  \n",
       "1     /review/rw4592819/?ref_=tt_urv  \n",
       "2     /review/rw4592819/?ref_=tt_urv  \n",
       "3     /review/rw4592819/?ref_=tt_urv  \n",
       "4     /review/rw4592819/?ref_=tt_urv  \n",
       "...                              ...  \n",
       "1404  /review/rw4592819/?ref_=tt_urv  \n",
       "1405  /review/rw4592819/?ref_=tt_urv  \n",
       "1406  /review/rw4592819/?ref_=tt_urv  \n",
       "1407  /review/rw4592819/?ref_=tt_urv  \n",
       "1408  /review/rw4592819/?ref_=tt_urv  \n",
       "\n",
       "[1409 rows x 6 columns]"
      ]
     },
     "execution_count": 9,
     "metadata": {},
     "output_type": "execute_result"
    }
   ],
   "source": [
    "review_df"
   ]
  },
  {
   "cell_type": "code",
   "execution_count": 10,
   "metadata": {},
   "outputs": [],
   "source": [
    "#1420 reviews"
   ]
  },
  {
   "cell_type": "code",
   "execution_count": 13,
   "metadata": {},
   "outputs": [],
   "source": [
    "#review_df.to_csv(r'D:\\UMD Master Year 2 College Work\\Fall 2022-2023\\INST737-IM01\\INST737_Star_Wars_IMDB_StarWars5.csv')"
   ]
  },
  {
   "cell_type": "code",
   "execution_count": null,
   "metadata": {},
   "outputs": [],
   "source": []
  }
 ],
 "metadata": {
  "colab": {
   "provenance": []
  },
  "kernelspec": {
   "display_name": "Python 3",
   "language": "python",
   "name": "python3"
  },
  "language_info": {
   "codemirror_mode": {
    "name": "ipython",
    "version": 3
   },
   "file_extension": ".py",
   "mimetype": "text/x-python",
   "name": "python",
   "nbconvert_exporter": "python",
   "pygments_lexer": "ipython3",
   "version": "3.8.5"
  }
 },
 "nbformat": 4,
 "nbformat_minor": 1
}
